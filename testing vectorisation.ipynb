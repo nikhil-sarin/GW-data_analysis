{
 "cells": [
  {
   "cell_type": "code",
   "execution_count": 43,
   "metadata": {},
   "outputs": [
    {
     "name": "stdout",
     "output_type": "stream",
     "text": [
      "Populating the interactive namespace from numpy and matplotlib\n"
     ]
    }
   ],
   "source": [
    "import numpy as np\n",
    "import vectorised as vec\n",
    "import signals as sig\n",
    "%pylab inline"
   ]
  },
  {
   "cell_type": "markdown",
   "metadata": {},
   "source": [
    "# Failed version, some bug idk where"
   ]
  },
  {
   "cell_type": "code",
   "execution_count": null,
   "metadata": {},
   "outputs": [],
   "source": [
    "#setup waveform and PSD\n",
    "Sh = np.loadtxt('aLIGO_ZERO_DET_high_P_psd.txt')\n",
    "fs = 1024.\n",
    "dur = 10.\n",
    "N = int(np.round(dur*fs))\n",
    "t = (1./fs) * np.linspace(0, N, N)\n",
    "AA = np.arange(0,10,1)/1e22\n",
    "\n",
    "#create waveforms in for loop\n",
    "mu = np.zeros((len(AA), len(t)))\n",
    "muf = np.zeros((len(AA),int(len(t)/2) + 1))\n",
    "muf_2 = np.zeros((len(AA),int(len(t)/2) + 1))\n",
    "freq = np.zeros((len(AA),int(len(t)/2) + 1))\n",
    "snr_2 = np.zeros(len(AA))\n",
    "snr = np.zeros(len(AA))\n",
    "for x in range(0,len(AA)):\n",
    "    mu[x] = AA[x]*np.sin(2*np.pi*100*t) #np.exp(-(t/2.)**2 / (2.*0.1**2)) \n",
    "    muf[x], freq[x] = sig.nfft(mu[x], fs)\n",
    "    muf_2[x] = np.fft.rfft(mu[x])\n",
    "    snr_2[x] = sig.snr_exp(muf_2[x],freq[x], Sh)\n",
    "    snr[x] = sig.snr_exp(muf[x], freq[x], Sh)\n",
    "    \n",
    "#create vectorized waveforms\n",
    "vu = AA[:,None]*np.sin(2*np.pi*100*t)\n",
    "vuf, freq = vec.nfft(vu, fs)\n",
    "v_snr = vec.snr_exp(vuf, freq, Sh)\n",
    "vuf_2 = np.fft.rfft(vu)\n",
    "v_snr_2 = vec.snr_exp(vuf_2,freq, Sh)"
   ]
  },
  {
   "cell_type": "markdown",
   "metadata": {},
   "source": [
    "# Working vectorisation"
   ]
  },
  {
   "cell_type": "code",
   "execution_count": 41,
   "metadata": {},
   "outputs": [
    {
     "name": "stdout",
     "output_type": "stream",
     "text": [
      "[ True  True  True ...  True  True  True]\n",
      "[ True  True  True ...  True  True  True]\n",
      "[ True  True  True ...  True  True  True]\n",
      "[ True  True  True ...  True  True  True]\n",
      "[ True  True  True ...  True  True  True]\n",
      "[ True  True  True ...  True  True  True]\n",
      "[ True  True  True ...  True  True  True]\n",
      "[ True  True  True ...  True  True  True]\n",
      "[ True  True  True ...  True  True  True]\n",
      "[ True  True  True ...  True  True  True]\n"
     ]
    }
   ],
   "source": [
    "#setup waveform and PSD\n",
    "Sh = np.loadtxt('aLIGO_ZERO_DET_high_P_psd.txt')\n",
    "fs = 1024.\n",
    "dur = 10.\n",
    "N = int(np.round(dur*fs))\n",
    "t = (1./fs) * np.linspace(0, N, N)\n",
    "AA = np.arange(0,10,1)/1e22\n",
    "\n",
    "#create waveforms in for loop\n",
    "mu = np.zeros((len(AA), len(t)))\n",
    "snr_2 = np.zeros(len(AA))\n",
    "snr = np.zeros(len(AA))\n",
    "for x in range(0,len(AA)):\n",
    "    mu[x] = AA[x]*np.sin(2*np.pi*100*t) #np.exp(-(t/2.)**2 / (2.*0.1**2)) \n",
    "    muf, freq = sig.nfft(mu[x], fs)\n",
    "    muf_2 = np.fft.rfft(mu[x])\n",
    "    muf_2 = muf_2/fs\n",
    "    print(muf_2 == muf)\n",
    "    snr_2[x] = sig.snr_exp(muf_2,freq, Sh)\n",
    "    snr[x] = sig.snr_exp(muf, freq, Sh)\n",
    "    \n",
    "vu = AA[:,None]*np.sin(2*np.pi*100*t)\n",
    "vuf, freq = vec.nfft(vu, fs)\n",
    "v_snr = vec.snr_exp(vuf, freq, Sh)\n",
    "vuf_2 = np.fft.rfft(vu)\n",
    "vuf_2 = np.fft.rfft(vu)/fs\n",
    "v_snr_2 = vec.snr_exp(vuf_2,freq, Sh)"
   ]
  },
  {
   "cell_type": "markdown",
   "metadata": {},
   "source": [
    "# Actual test code"
   ]
  },
  {
   "cell_type": "code",
   "execution_count": 50,
   "metadata": {},
   "outputs": [
    {
     "name": "stdout",
     "output_type": "stream",
     "text": [
      "[ True  True  True  True  True  True  True  True  True  True]\n",
      "[ True  True  True  True  True  True  True  True  True  True]\n"
     ]
    }
   ],
   "source": [
    "#setup waveform and PSD\n",
    "Sh = np.loadtxt('aLIGO_ZERO_DET_high_P_psd.txt')\n",
    "fs = 1024.\n",
    "dur = 10.\n",
    "N = int(np.round(dur*fs))\n",
    "t = (1./fs) * np.linspace(0, N, N)\n",
    "AA = np.arange(0,10,1)/1e22\n",
    "\n",
    "#create a waveform with same time series but different amplitude based on the amplitude term AA\n",
    "mu = AA[:,None]*np.sin(2*np.pi*100*t)\n",
    "\n",
    "#create waveforms in for loop\n",
    "snr = np.zeros(len(AA))\n",
    "inner_prod = np.zeros(len(AA))\n",
    "for x in range(0,len(AA)):\n",
    "    muf, freq = vec.nfft(mu[x], fs)\n",
    "    inner_prod[x] = vec.inner_product(muf, muf, freq, Sh)\n",
    "    snr[x] = vec.snr_exp(muf, freq, Sh)\n",
    "\n",
    "#create vectorised waveforms\n",
    "vuf, freq = vec.nfft(mu, fs)\n",
    "v_inner_prod = vec.inner_product(vuf, vuf, freq, Sh)\n",
    "v_snr = vec.snr_exp(vuf, freq, Sh)\n",
    "\n",
    "#test whether vectorised SNR and inner product are the same as the for loop\n",
    "print(v_snr == snr)\n",
    "print(v_inner_prod == inner_prod)"
   ]
  },
  {
   "cell_type": "code",
   "execution_count": null,
   "metadata": {},
   "outputs": [],
   "source": []
  }
 ],
 "metadata": {
  "kernelspec": {
   "display_name": "Python 3",
   "language": "python",
   "name": "python3"
  },
  "language_info": {
   "codemirror_mode": {
    "name": "ipython",
    "version": 3
   },
   "file_extension": ".py",
   "mimetype": "text/x-python",
   "name": "python",
   "nbconvert_exporter": "python",
   "pygments_lexer": "ipython3",
   "version": "3.6.4"
  }
 },
 "nbformat": 4,
 "nbformat_minor": 2
}
